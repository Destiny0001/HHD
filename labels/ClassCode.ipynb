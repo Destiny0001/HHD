{
 "cells": [
  {
   "cell_type": "code",
   "execution_count": 7,
   "metadata": {},
   "outputs": [],
   "source": [
    "from scipy.special import comb, perm  #calculate combination\n",
    "from itertools import combinations\n",
    "from scipy.linalg import hadamard  # direct import  hadamrd matrix from scipy\n",
    "import torch\n",
    "import numpy as np\n",
    "import os\n",
<<<<<<< HEAD
    "d = 128 # d is the lenth of hash codes and hash centers, d should be 2^n\n"
=======
    "d = 32 # d is the lenth of hash codes and hash centers, d should be 2^n\n"
>>>>>>> origin/Task2
   ]
  },
  {
   "cell_type": "code",
   "execution_count": 8,
   "metadata": {},
   "outputs": [],
   "source": [
    "\n",
    "ha_d = hadamard(d)   # hadamard matrix \n",
    "ha_2d = np.concatenate((ha_d, -ha_d),0)  # can be used as targets for 2*d hash bit"
   ]
  },
  {
   "cell_type": "code",
   "execution_count": 9,
   "metadata": {},
   "outputs": [
    {
     "name": "stdout",
     "output_type": "stream",
     "text": [
      "hash centers shape: torch.Size([10, 32])\n"
     ]
    }
   ],
   "source": [
    "num_class = 10\n",
    "\n",
    "if num_class<=d:\n",
    "    hash_targets = torch.from_numpy(ha_d[0:num_class]).float()\n",
    "    print('hash centers shape: {}'. format(hash_targets.shape))\n",
    "elif num_class>d:\n",
    "    hash_targets = torch.from_numpy(ha_2d[0:num_class]).float()\n",
    "    print('hash centers shape: {}'. format(hash_targets.shape))"
   ]
  },
  {
   "cell_type": "code",
   "execution_count": 10,
   "metadata": {},
   "outputs": [],
   "source": [
    "# Save the hash targets as training targets\n",
    "file_name = str(d) + '_cifar10' + '_' + str(num_class) + '_class.pkl'\n",
    "file_dir = './' + file_name\n",
    "os.makedirs(os.path.dirname(file_dir), exist_ok=True)\n",
    "f = open(file_dir, \"wb\")\n",
    "torch.save(hash_targets, f)\n",
    "f.close()"
   ]
  },
  {
   "cell_type": "code",
   "execution_count": 11,
   "metadata": {},
   "outputs": [
    {
     "data": {
      "text/plain": [
       "tensor([[ 1.,  1.,  1.,  1.,  1.,  1.,  1.,  1.,  1.,  1.,  1.,  1.,  1.,  1.,\n",
       "          1.,  1.,  1.,  1.,  1.,  1.,  1.,  1.,  1.,  1.,  1.,  1.,  1.,  1.,\n",
       "          1.,  1.,  1.,  1.],\n",
       "        [ 1., -1.,  1., -1.,  1., -1.,  1., -1.,  1., -1.,  1., -1.,  1., -1.,\n",
       "          1., -1.,  1., -1.,  1., -1.,  1., -1.,  1., -1.,  1., -1.,  1., -1.,\n",
       "          1., -1.,  1., -1.],\n",
       "        [ 1.,  1., -1., -1.,  1.,  1., -1., -1.,  1.,  1., -1., -1.,  1.,  1.,\n",
       "         -1., -1.,  1.,  1., -1., -1.,  1.,  1., -1., -1.,  1.,  1., -1., -1.,\n",
       "          1.,  1., -1., -1.],\n",
       "        [ 1., -1., -1.,  1.,  1., -1., -1.,  1.,  1., -1., -1.,  1.,  1., -1.,\n",
       "         -1.,  1.,  1., -1., -1.,  1.,  1., -1., -1.,  1.,  1., -1., -1.,  1.,\n",
       "          1., -1., -1.,  1.],\n",
       "        [ 1.,  1.,  1.,  1., -1., -1., -1., -1.,  1.,  1.,  1.,  1., -1., -1.,\n",
       "         -1., -1.,  1.,  1.,  1.,  1., -1., -1., -1., -1.,  1.,  1.,  1.,  1.,\n",
       "         -1., -1., -1., -1.],\n",
       "        [ 1., -1.,  1., -1., -1.,  1., -1.,  1.,  1., -1.,  1., -1., -1.,  1.,\n",
       "         -1.,  1.,  1., -1.,  1., -1., -1.,  1., -1.,  1.,  1., -1.,  1., -1.,\n",
       "         -1.,  1., -1.,  1.],\n",
       "        [ 1.,  1., -1., -1., -1., -1.,  1.,  1.,  1.,  1., -1., -1., -1., -1.,\n",
       "          1.,  1.,  1.,  1., -1., -1., -1., -1.,  1.,  1.,  1.,  1., -1., -1.,\n",
       "         -1., -1.,  1.,  1.],\n",
       "        [ 1., -1., -1.,  1., -1.,  1.,  1., -1.,  1., -1., -1.,  1., -1.,  1.,\n",
       "          1., -1.,  1., -1., -1.,  1., -1.,  1.,  1., -1.,  1., -1., -1.,  1.,\n",
       "         -1.,  1.,  1., -1.],\n",
       "        [ 1.,  1.,  1.,  1.,  1.,  1.,  1.,  1., -1., -1., -1., -1., -1., -1.,\n",
       "         -1., -1.,  1.,  1.,  1.,  1.,  1.,  1.,  1.,  1., -1., -1., -1., -1.,\n",
       "         -1., -1., -1., -1.],\n",
       "        [ 1., -1.,  1., -1.,  1., -1.,  1., -1., -1.,  1., -1.,  1., -1.,  1.,\n",
       "         -1.,  1.,  1., -1.,  1., -1.,  1., -1.,  1., -1., -1.,  1., -1.,  1.,\n",
       "         -1.,  1., -1.,  1.]])"
      ]
     },
     "execution_count": 11,
     "metadata": {},
     "output_type": "execute_result"
    }
   ],
   "source": [
    "import pickle\n",
    "import torch \n",
    "device = torch.device(\"mps\")\n",
    "with open(file_dir,'rb') as f:\n",
    "    label_code = torch.load(f)\n",
    "\n",
    "label_code"
   ]
  }
 ],
 "metadata": {
  "kernelspec": {
   "display_name": "tinyml",
   "language": "python",
   "name": "python3"
  },
  "language_info": {
   "codemirror_mode": {
    "name": "ipython",
    "version": 3
   },
   "file_extension": ".py",
   "mimetype": "text/x-python",
   "name": "python",
   "nbconvert_exporter": "python",
   "pygments_lexer": "ipython3",
   "version": "3.8.0"
  }
 },
 "nbformat": 4,
 "nbformat_minor": 2
}
