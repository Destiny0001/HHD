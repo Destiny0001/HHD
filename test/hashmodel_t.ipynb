{
 "cells": [
  {
   "cell_type": "code",
   "execution_count": null,
   "metadata": {},
   "outputs": [],
   "source": [
    "import sys\n",
    "# 添加 utils 目录到系统路径\n",
    "sys.path.append('../')\n",
    "import torch\n",
    "from torchvision import transforms\n",
    "from PIL import Image\n",
    "import utils.hash_model as imgae_hash_model\n",
    "device = torch.device(\"cuda\")\n",
    "# 加载图片\n",
    "image_path = 'test.jpg'\n",
    "image = Image.open(image_path)\n",
    "\n",
    "# 图片预处理\n",
    "# 以下是一个例子，具体的转换需要根据您模型的要求来调整\n",
    "preprocess = transforms.Compose([\n",
    "    transforms.Resize((224, 224)),  # 假设我们使用的模型期望输入为224x224\n",
    "    transforms.ToTensor(),\n",
    "    transforms.Normalize(mean=[0.485, 0.456, 0.406], std=[0.229, 0.224, 0.225]),\n",
    "])\n",
    "\n",
    "image_tensor = preprocess(image).to(device).unsqueeze(0)  # 增加一个批次维度\n",
    "\n",
    "# 加载模型\n",
    "model = imgae_hash_model.HASH_Net(model_name=\"alexnet\", bit=128, pretrained=True)\n",
    "model.to(device)\n",
    "model.eval()  # 设置为评估模式\n",
    "\n",
    "# 不计算梯度，以加快推理速度\n",
    "with torch.no_grad():\n",
    "    hash_output = model(image_tensor)\n",
    "\n",
    "# 将输出转换为哈希码（二进制形式）\n",
    "# 这里以0为阈值进行简单的二值化为例\n",
    "#hash_code = (hash_output > 0).int().numpy()\n",
    "hash_code = torch.sign(hash_output)\n",
    "print(\"哈希码:\", hash_code)\n"
   ]
  },
  {
   "cell_type": "code",
   "execution_count": null,
   "metadata": {},
   "outputs": [],
   "source": [
    "import torch\n",
    "\n",
    "# 假设有一个64位整数的Tensor\n",
    "hash_codes = torch.tensor([0x123456789abcdef0], dtype=torch.int64)\n",
    "\n",
    "# 转换为位编码\n",
    "def to_bit_tensor(hash_codes):\n",
    "    bits = [(hash_codes >> i) & 1 for i in range(64)]\n",
    "    return torch.stack(bits, dim=-1)\n",
    "\n",
    "bit_tensor = to_bit_tensor(hash_code)\n",
    "print(bit_tensor)  # 打印位编码的Tensor\n"
   ]
  }
 ],
 "metadata": {
  "kernelspec": {
   "display_name": "tinyml",
   "language": "python",
   "name": "python3"
  },
  "language_info": {
   "codemirror_mode": {
    "name": "ipython",
    "version": 3
   },
   "file_extension": ".py",
   "mimetype": "text/x-python",
   "name": "python",
   "nbconvert_exporter": "python",
   "pygments_lexer": "ipython3",
   "version": "3.8.0"
  }
 },
 "nbformat": 4,
 "nbformat_minor": 2
}
