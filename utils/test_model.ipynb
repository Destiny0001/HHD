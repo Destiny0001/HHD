{
 "cells": [
  {
   "cell_type": "code",
   "execution_count": 1,
   "metadata": {},
   "outputs": [
    {
     "name": "stderr",
     "output_type": "stream",
     "text": [
      "/root/anaconda3/envs/deephashh/lib/python3.8/site-packages/torchvision/models/_utils.py:208: UserWarning: The parameter 'pretrained' is deprecated since 0.13 and may be removed in the future, please use 'weights' instead.\n",
      "  warnings.warn(\n",
      "/root/anaconda3/envs/deephashh/lib/python3.8/site-packages/torchvision/models/_utils.py:223: UserWarning: Arguments other than a weight enum or `None` for 'weights' are deprecated since 0.13 and may be removed in the future. The current behavior is equivalent to passing `weights=ResNet34_Weights.IMAGENET1K_V1`. You can also use `weights=ResNet34_Weights.DEFAULT` to get the most up-to-date weights.\n",
      "  warnings.warn(msg)\n"
     ]
    },
    {
     "name": "stdout",
     "output_type": "stream",
     "text": [
      "Test Accuracy: 94.19%\n"
     ]
    }
   ],
   "source": [
    "import torch\n",
    "from cac import test_accuracy\n",
    "from hash_model import HASH_Net\n",
    "import torch.nn as nn\n",
    "import torch.optim as optim\n",
    "import torchvision\n",
    "import torchvision.transforms as transforms\n",
    "\n",
    "device = torch.device(\"cuda\")\n",
    "hash_bits = 64 # 假设哈希编码的位数\n",
    "model_name = \"resnet34\"\n",
    "batch_size = 64\n",
    "noise_rate=0.0\n",
    "\n",
    "with open('../labels/64_cifar10_10_class.pkl', 'rb') as f:\n",
    "    label_hash_codes= torch.load(f)\n",
    "label_hash_codes.to(device)\n",
    "\n",
    "# 1. 加载CIFAR-10数据集\n",
    "transform = transforms.Compose([\n",
    "        transforms.Resize(256),\n",
    "        transforms.CenterCrop(224),\n",
    "        transforms.ToTensor(),\n",
    "        transforms.Normalize([0.485, 0.456, 0.406], [0.229, 0.224, 0.225])\n",
    "    ])\n",
    "\n",
    "testset = torchvision.datasets.CIFAR10(root='./data', train=False, download=False, transform=transform)\n",
    "testloader = torch.utils.data.DataLoader(testset, batch_size=batch_size, shuffle=False)\n",
    "\n",
    "\n",
    "# 确保你的模型架构定义与保存前一致\n",
    "model = HASH_Net(model_name,hash_bits).to(device)  # YourModelArchitecture是你的模型架构\n",
    "model.load_state_dict(torch.load(f'./model/nr_{noise_rate}_{model_name}.pth'))  # 加载保存的模型参数\n",
    "model.eval()  # 设置为评估模式\n",
    "accuracy = test_accuracy(model, testloader, label_hash_codes,device)\n",
    "print(f'Test Accuracy: {accuracy}%')"
   ]
  }
 ],
 "metadata": {
  "kernelspec": {
   "display_name": "deephashh",
   "language": "python",
   "name": "python3"
  },
  "language_info": {
   "codemirror_mode": {
    "name": "ipython",
    "version": 3
   },
   "file_extension": ".py",
   "mimetype": "text/x-python",
   "name": "python",
   "nbconvert_exporter": "python",
   "pygments_lexer": "ipython3",
   "version": "3.8.0"
  }
 },
 "nbformat": 4,
 "nbformat_minor": 2
}
