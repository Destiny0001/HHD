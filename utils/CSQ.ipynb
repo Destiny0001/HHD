{
 "cells": [
  {
   "cell_type": "code",
   "execution_count": 1,
   "metadata": {},
   "outputs": [
    {
     "ename": "ModuleNotFoundError",
     "evalue": "No module named 'torch'",
     "output_type": "error",
     "traceback": [
      "\u001b[0;31m---------------------------------------------------------------------------\u001b[0m",
      "\u001b[0;31mModuleNotFoundError\u001b[0m                       Traceback (most recent call last)",
      "Cell \u001b[0;32mIn[1], line 1\u001b[0m\n\u001b[0;32m----> 1\u001b[0m \u001b[38;5;28;01mimport\u001b[39;00m \u001b[38;5;21;01mtorch\u001b[39;00m\n\u001b[1;32m      2\u001b[0m \u001b[38;5;28;01mimport\u001b[39;00m \u001b[38;5;21;01mtorch\u001b[39;00m\u001b[38;5;21;01m.\u001b[39;00m\u001b[38;5;21;01mnn\u001b[39;00m \u001b[38;5;28;01mas\u001b[39;00m \u001b[38;5;21;01mnn\u001b[39;00m\n\u001b[1;32m      3\u001b[0m \u001b[38;5;28;01mimport\u001b[39;00m \u001b[38;5;21;01mtorch\u001b[39;00m\u001b[38;5;21;01m.\u001b[39;00m\u001b[38;5;21;01moptim\u001b[39;00m \u001b[38;5;28;01mas\u001b[39;00m \u001b[38;5;21;01moptim\u001b[39;00m\n",
      "\u001b[0;31mModuleNotFoundError\u001b[0m: No module named 'torch'"
     ]
    }
   ],
   "source": [
    "import torch\n",
    "import torch.nn as nn\n",
    "import torch.optim as optim\n",
    "import torchvision\n",
    "import torchvision.transforms as transforms\n",
    "import hash_model as image_hash_model\n",
    "import pickle\n",
    "import time\n",
    "import numpy as np\n",
    "\n",
    "\n",
    "\n",
    "top_k = 1000\n",
    "batch_size = 10\n",
    "epochs = 150\n",
    "lr = 0.001 #0.05\n",
    "weight_decay = 10 ** -5\n",
    "\n",
    "lambda1 = 0.01\n",
    "\n",
    "# 1. 加载CIFAR-10数据集\n",
    "transform = transforms.Compose([\n",
    "        transforms.Resize(256),\n",
    "        transforms.CenterCrop(224),\n",
    "        transforms.ToTensor(),\n",
    "        transforms.Normalize([0.485, 0.456, 0.406], [0.229, 0.224, 0.225])\n",
    "    ])\n",
    "trainset = torchvision.datasets.CIFAR10(root='./data', train=True, download=True, transform=transform)\n",
    "trainloader = torch.utils.data.DataLoader(trainset, batch_size=batch_size, shuffle=True)\n",
    "\n",
    "testset = torchvision.datasets.CIFAR10(root='./data', train=False, download=True, transform=transform)\n",
    "testloader = torch.utils.data.DataLoader(testset, batch_size=batch_size, shuffle=False)\n",
    "\n",
    "\n",
    "hash_bits = 64 # 假设哈希编码的位数\n",
    "model_name = \"vgg11\"\n",
    "device = torch.device(\"cuda\")\n",
    "\n",
    "model = image_hash_model.HASH_Net(model_name, hash_bits)\n",
    "model.to(device)\n",
    "optimizer = optim.SGD(model.parameters(), lr=lr, momentum=0.9)\n",
    "scheduler = torch.optim.lr_scheduler.StepLR(optimizer, step_size=100, gamma=0.3, last_epoch=-1)\n",
    "\n",
    "# 3. 加载哈希编码\n",
    "with open('../labels/64_cifar10_10_class.pkl', 'rb') as f:\n",
    "    label_hash_codes= torch.load(f)\n",
    "label_hash_codes.to(device)"
   ]
  },
  {
   "cell_type": "code",
   "execution_count": null,
   "metadata": {},
   "outputs": [],
   "source": [
    "def test_accuracy(model, test_loader, label_hash_codes, device=device):\n",
    "    model.eval()  # 设置模型为评估模式\n",
    "    correct = 0\n",
    "    total = 0\n",
    "\n",
    "    with torch.no_grad():  # 禁用梯度计算\n",
    "        for data, labels in test_loader:\n",
    "            data = data.to(device)\n",
    "            outputs = torch.sign(model(data)).to(device)  # 模型输出的哈希值 后续可以继续修改\n",
    "            \n",
    "            # 通过计算输出和每个类别哈希码之间的相似度来简化汉明距离的计算\n",
    "            # 计算相似度\n",
    "            similarities = torch.mm(outputs, label_hash_codes.t().to(device))\n",
    "            \n",
    "            # 相似度最高的类别即为预测类别\n",
    "            _, predicted = similarities.max(dim=1)\n",
    "            \n",
    "            total += labels.size(0)\n",
    "            correct += (predicted.to(device) == labels.to(device)).sum().item()\n",
    "    \n",
    "    accuracy = 100 * correct / total\n",
    "    return accuracy"
   ]
  },
  {
   "cell_type": "code",
   "execution_count": null,
   "metadata": {},
   "outputs": [
    {
     "name": "stdout",
     "output_type": "stream",
     "text": [
      "Epoch 0, Test Accuracy: 12.93%\n",
      "epoch: 0, lr: 0.00100 iter_num: 0, time: 71.707, loss: 0.758\n",
      "epoch: 0, lr: 0.00100 iter_num: 100, time: 94.185, loss: 0.527\n",
      "epoch: 0, lr: 0.00100 iter_num: 200, time: 116.296, loss: 0.468\n"
     ]
    },
    {
     "ename": "KeyboardInterrupt",
     "evalue": "",
     "output_type": "error",
     "traceback": [
      "\u001b[0;31m---------------------------------------------------------------------------\u001b[0m",
      "\u001b[0;31mKeyboardInterrupt\u001b[0m                         Traceback (most recent call last)",
      "Cell \u001b[0;32mIn[21], line 13\u001b[0m\n\u001b[1;32m     11\u001b[0m inputs \u001b[38;5;241m=\u001b[39m model(inputs)\n\u001b[1;32m     12\u001b[0m \u001b[38;5;66;03m#label_ind = (labels ==1).nonzero()[:1]\u001b[39;00m\n\u001b[0;32m---> 13\u001b[0m cat_codes \u001b[38;5;241m=\u001b[39m \u001b[43mlabel_hash_codes\u001b[49m\u001b[43m[\u001b[49m\u001b[43mlabels\u001b[49m\u001b[43m]\u001b[49m\u001b[38;5;241;43m.\u001b[39;49m\u001b[43mto\u001b[49m\u001b[43m(\u001b[49m\u001b[43mdevice\u001b[49m\u001b[43m)\u001b[49m \n\u001b[1;32m     14\u001b[0m criterion \u001b[38;5;241m=\u001b[39m nn\u001b[38;5;241m.\u001b[39mBCELoss()\u001b[38;5;241m.\u001b[39mto(device)\n\u001b[1;32m     15\u001b[0m center_loss \u001b[38;5;241m=\u001b[39m criterion(\u001b[38;5;241m0.5\u001b[39m\u001b[38;5;241m*\u001b[39m(inputs\u001b[38;5;241m+\u001b[39m\u001b[38;5;241m1\u001b[39m),\u001b[38;5;241m0.5\u001b[39m\u001b[38;5;241m*\u001b[39m(cat_codes\u001b[38;5;241m+\u001b[39m\u001b[38;5;241m1\u001b[39m))\n",
      "\u001b[0;31mKeyboardInterrupt\u001b[0m: "
     ]
    }
   ],
   "source": [
    "\n",
    "start_time = time.time()\n",
    "total_loss = []\n",
    "for epoch in range(10):  # 循环遍历数据集多次\n",
    "    scheduler.step()\n",
    "    if epoch % 5 == 0:\n",
    "        accuracy = test_accuracy(model, testloader, label_hash_codes)\n",
    "        print(f'Epoch {epoch}, Test Accuracy: {accuracy}%')\n",
    "    for iter, traindata in enumerate(trainloader, 0):\n",
    "        inputs, labels= traindata\n",
    "        inputs = inputs.to(device)\n",
    "        inputs = model(inputs)\n",
    "        #label_ind = (labels ==1).nonzero()[:1]\n",
    "        cat_codes = label_hash_codes[labels].to(device) \n",
    "        criterion = nn.BCELoss().to(device)\n",
    "        center_loss = criterion(0.5*(inputs+1),0.5*(cat_codes+1))\n",
    "\n",
    "        Q_loss = torch.mean((torch.abs(inputs)-1.0)**2)\n",
    "        loss = center_loss+lambda1*Q_loss\n",
    "        optimizer.zero_grad()\n",
    "        loss.backward()\n",
    "        optimizer.step()\n",
    "        total_loss.append(loss.data.to(device).numpy)\n",
    "        if iter%100==0:\n",
    "            end_time1 = time.time()\n",
    "            print('epoch: %d, lr: %.5f iter_num: %d, time: %.3f, loss: %.3f' % (epoch, lr, iter,(end_time1-start_time), loss))\n",
    "\n",
    "        \n",
    "end_time = time.time()\n",
    "epoch_loss = np.mean(total_loss)\n",
    "print('Finished Training')"
   ]
  }
 ],
 "metadata": {
  "kernelspec": {
   "display_name": "tinyml",
   "language": "python",
   "name": "python3"
  },
  "language_info": {
   "codemirror_mode": {
    "name": "ipython",
    "version": 3
   },
   "file_extension": ".py",
   "mimetype": "text/x-python",
   "name": "python",
   "nbconvert_exporter": "python",
   "pygments_lexer": "ipython3",
   "version": "3.8.0"
  }
 },
 "nbformat": 4,
 "nbformat_minor": 2
}
